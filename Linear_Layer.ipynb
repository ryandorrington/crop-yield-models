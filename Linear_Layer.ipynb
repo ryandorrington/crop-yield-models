{
 "cells": [
  {
   "cell_type": "markdown",
   "id": "1429fe18",
   "metadata": {},
   "source": [
    "# Linear Layer"
   ]
  },
  {
   "cell_type": "code",
   "execution_count": 1,
   "id": "489f73ba",
   "metadata": {},
   "outputs": [
    {
     "data": {
      "text/plain": [
       "(5094, 13)"
      ]
     },
     "execution_count": 1,
     "metadata": {},
     "output_type": "execute_result"
    }
   ],
   "source": [
    "import pandas as pd\n",
    "import torch\n",
    "import torch.nn as nn\n",
    "import torch.optim as optim\n",
    "import matplotlib.pyplot as plt\n",
    "import random\n",
    "from sklearn import model_selection\n",
    "import torch.nn.functional as F\n",
    "import numpy as np\n",
    "\n",
    "# Load the dataset\n",
    "df = pd.read_csv('27-06-all-crop.csv')  # Replace \"your_dataset.csv\" with the actual path to your dataset\n",
    "df.shape"
   ]
  },
  {
   "cell_type": "code",
   "execution_count": 2,
   "id": "b9517f7d",
   "metadata": {},
   "outputs": [
    {
     "data": {
      "text/plain": [
       "(5094, 13)"
      ]
     },
     "execution_count": 2,
     "metadata": {},
     "output_type": "execute_result"
    }
   ],
   "source": [
    "# map the classification columns\n",
    "agzone_map = {\n",
    "    \"NSW VH3\": 0,\n",
    "    \"NSW H1\": 1,\n",
    "    \"NSW H2\": 2,\n",
    "    \"NSW H3\": 3,\n",
    "    \"VIC H1\": 4,\n",
    "    \"VIC H2\": 5,\n",
    "    \"WA H1\": 6,\n",
    "    \"WA H2\": 7,\n",
    "    \"WA H3\": 8,\n",
    "    \"WA H4\": 9,\n",
    "    \"WA H5\": 10,\n",
    "    \"WA H5W\": 11,\n",
    "    \"WA M1\": 12,\n",
    "    \"WA M2\": 13,\n",
    "    \"WA M3\": 14,\n",
    "    \"WA M4\": 15,\n",
    "    \"WA M5\": 16,\n",
    "    \"NSW M2\": 17,\n",
    "    \"NSW M3\": 18,\n",
    "    \"VIC M1\": 19,\n",
    "    \"VIC M2\": 20,\n",
    "    \"WA L1\": 21,\n",
    "    \"WA L2\": 22,\n",
    "    \"WA L3\": 23,\n",
    "    \"WA L4\": 24,\n",
    "    \"WA L5\": 25,\n",
    "    \"NSW L3\": 26,\n",
    "}\n",
    "name_map = {\n",
    "    \"ChickpeaKabul\": 0,\n",
    "    \"AdzukiBean\": 1,\n",
    "    \"Lupin\": 2,\n",
    "    \"Lucerne\": 3,\n",
    "    \"Silage\": 4,\n",
    "    \"FabaBean\": 5,\n",
    "    \"OtherHay\": 6,\n",
    "    \"Vetch\": 7,\n",
    "    \"OatenHay\": 8,\n",
    "    \"Triticale\": 9,\n",
    "    \"CerealRye\": 10,\n",
    "    \"FeedBarley\": 11,\n",
    "    \"Wheat\": 12,\n",
    "    \"OtherCrop\": 13,\n",
    "    \"Oat\": 14,\n",
    "    \"MaltBarley\": 15,\n",
    "    \"Lentil\": 16,\n",
    "    \"Canola\": 17,\n",
    "    \"AlbusLupin\": 18,\n",
    "    \"Sunflower\": 19,\n",
    "    \"CanolaGm\": 20,\n",
    "    \"Rice\": 21,\n",
    "    \"Sorghum\": 22,\n",
    "    \"MaizeOrCorn\": 23,\n",
    "    \"ChickpeaDesi\": 24,\n",
    "    \"FieldPea\": 25,\n",
    "    \"Cotton\": 26\n",
    "}\n",
    "\n",
    "df[\"Agzone\"] = df[\"Agzone\"].map(agzone_map).astype(int)\n",
    "df[\"Name\"] = df[\"Name\"].map(name_map).astype(int)\n",
    "\n",
    "df.shape"
   ]
  },
  {
   "cell_type": "code",
   "execution_count": 3,
   "id": "4392de27",
   "metadata": {},
   "outputs": [],
   "source": [
    "# group data\n",
    "number_of_years = 4\n",
    "grouped_df = df.groupby(['ProfitSeriesBusinessId', 'Name'])\n",
    "filtered_df = grouped_df.filter(lambda group_data: (~group_data['Year'].duplicated()).all() and len(group_data['Year']) >= number_of_years)\n",
    "\n",
    "sorted_df = filtered_df.groupby('ProfitSeriesBusinessId').apply(lambda x: x.sort_values('Year'))\n",
    "sorted_df = sorted_df.reset_index(drop=True)\n",
    "\n",
    "# Convert each group to a list of dictionaries\n",
    "grouped_list = [group.to_dict(orient='records') for _, group in sorted_df.groupby(['ProfitSeriesBusinessId','Name'])]\n",
    "\n",
    "# Group into 3's\n",
    "combinations = []\n",
    "for group in grouped_list:\n",
    "    [combinations.append(group[i:i+number_of_years]) for i in range(len(group)-(number_of_years-1))]"
   ]
  },
  {
   "cell_type": "code",
   "execution_count": 4,
   "id": "7a3087ed",
   "metadata": {},
   "outputs": [],
   "source": [
    "# map each data vector\n",
    "excluded_keys = ['Name', 'ProfitSeriesBusinessId', 'Id', 'Agzone', 'Year']\n",
    "\n",
    "regression_data = []\n",
    "name_data = []\n",
    "agzone_data = []\n",
    "targets = []\n",
    "for combination in combinations:\n",
    "    combined_dict = {}\n",
    "    for row in combination:\n",
    "        filtered_row = {key: value for key, value in row.items() if key not in excluded_keys}\n",
    "        for key, value in filtered_row.items():\n",
    "            combined_key = key + str(row['Year'])\n",
    "            combined_dict[combined_key] = value\n",
    "\n",
    "    current_year = max(combination, key=lambda x: x['Year'])['Year']\n",
    "    \n",
    "    targets.append(combined_dict[f\"YieldTonnesPerHa{current_year}\"])\n",
    "    del combined_dict[f\"YieldTonnesPerHa{current_year}\"]\n",
    "    del combined_dict[f\"WUE_KgPerHa{current_year}\"]\n",
    "    \n",
    "    regression_data.append(combined_dict)\n",
    "    name_data.append(combination[0]['Name'])\n",
    "    agzone_data.append(combination[0]['Agzone'])"
   ]
  },
  {
   "cell_type": "code",
   "execution_count": 5,
   "id": "2dc60372",
   "metadata": {},
   "outputs": [],
   "source": [
    "# convert data to lists\n",
    "X_regression = []\n",
    "\n",
    "for dictionary in regression_data:\n",
    "    values = list(dictionary.values())\n",
    "    X_regression.append(values)"
   ]
  },
  {
   "cell_type": "code",
   "execution_count": 6,
   "id": "ee617868",
   "metadata": {},
   "outputs": [],
   "source": [
    "def create_one_hot_layer(features, num_classes):\n",
    "    return F.one_hot(features, num_classes)\n",
    "\n",
    "one_hot_agzone = create_one_hot_layer(features=torch.tensor(agzone_data), num_classes=27)\n",
    "one_hot_name = create_one_hot_layer(features=torch.tensor(name_data), num_classes=27)\n",
    "\n",
    "X_regression = np.concatenate((X_regression, one_hot_agzone, one_hot_name), axis=1)"
   ]
  },
  {
   "cell_type": "code",
   "execution_count": 7,
   "id": "4de34181",
   "metadata": {},
   "outputs": [],
   "source": [
    "# Splitting regression features\n",
    "X_train_regression, X_test_regression, y_train, y_test = model_selection.train_test_split(\n",
    "    torch.tensor(X_regression, dtype=torch.float32), targets, test_size=0.2, random_state=42)\n",
    "\n",
    "X_val_regression, X_test_regression, y_val, y_test = model_selection.train_test_split(\n",
    "    X_test_regression, y_test, test_size=0.5, random_state=42)"
   ]
  },
  {
   "cell_type": "code",
   "execution_count": 8,
   "id": "783e0c40",
   "metadata": {},
   "outputs": [],
   "source": [
    "y_train = torch.tensor(y_train, dtype=torch.float32)\n",
    "y_test = torch.tensor(y_test, dtype=torch.float32)\n",
    "y_val = torch.tensor(y_val, dtype=torch.float32)\n",
    "\n",
    "y_train = y_train.unsqueeze(1)\n",
    "y_test = y_test.unsqueeze(1)\n",
    "y_val = y_val.unsqueeze(1)"
   ]
  },
  {
   "cell_type": "code",
   "execution_count": 9,
   "id": "18a3a1dc",
   "metadata": {},
   "outputs": [
    {
     "name": "stdout",
     "output_type": "stream",
     "text": [
      "Train:\n",
      "torch.Size([244, 84])\n",
      "Val:\n",
      "torch.Size([30, 84])\n",
      "Test:\n",
      "torch.Size([31, 84])\n"
     ]
    }
   ],
   "source": [
    "print(\"Train:\")\n",
    "print(X_train_regression.shape)\n",
    "\n",
    "print(\"Val:\")\n",
    "print(X_val_regression.shape)\n",
    "\n",
    "print(\"Test:\")\n",
    "print(X_test_regression.shape)\n",
    "\n",
    "regression_input_size = X_train_regression.size(1)"
   ]
  },
  {
   "cell_type": "code",
   "execution_count": 10,
   "id": "6dd4bb8a",
   "metadata": {},
   "outputs": [],
   "source": [
    "class Model(nn.Module):\n",
    "    def __init__(self, regression_input_size):\n",
    "        super(Model, self).__init__()\n",
    "\n",
    "        self.output_layer = nn.Linear(regression_input_size, 1)\n",
    "\n",
    "    def forward(self, regression_inputs):\n",
    "        return self.output_layer(regression_inputs)"
   ]
  },
  {
   "cell_type": "code",
   "execution_count": 11,
   "id": "b11991e1",
   "metadata": {},
   "outputs": [
    {
     "name": "stdout",
     "output_type": "stream",
     "text": [
      "Model(\n",
      "  (output_layer): Linear(in_features=84, out_features=1, bias=True)\n",
      ")\n"
     ]
    }
   ],
   "source": [
    "# Creating an instance of the model\n",
    "model = Model(regression_input_size)\n",
    "\n",
    "print(model)"
   ]
  },
  {
   "cell_type": "code",
   "execution_count": 12,
   "id": "3da8a9a9",
   "metadata": {},
   "outputs": [],
   "source": [
    "loss_fn = nn.MSELoss()\n",
    "optimizer = optim.Adam(model.parameters(), lr=0.00001)"
   ]
  },
  {
   "cell_type": "code",
   "execution_count": 13,
   "id": "4dc28431",
   "metadata": {},
   "outputs": [],
   "source": [
    "train_losses = []\n",
    "val_losses = []"
   ]
  },
  {
   "cell_type": "code",
   "execution_count": 14,
   "id": "d37295eb",
   "metadata": {},
   "outputs": [],
   "source": [
    "best_val_loss = float('inf')\n",
    "patience = 5000\n",
    "counter = 0\n",
    "append_counter = 0\n",
    "batch_size = 244"
   ]
  },
  {
   "cell_type": "code",
   "execution_count": 15,
   "id": "6ebf3d09",
   "metadata": {
    "scrolled": false
   },
   "outputs": [
    {
     "name": "stdout",
     "output_type": "stream",
     "text": [
      "Epoch 1000, Train Loss: 1076.8993, Validation Loss: 1552.2439\n",
      "Epoch 2000, Train Loss: 834.4731, Validation Loss: 1238.1975\n",
      "Epoch 3000, Train Loss: 634.8795, Validation Loss: 992.1647\n",
      "Epoch 4000, Train Loss: 481.3576, Validation Loss: 785.3533\n",
      "Epoch 5000, Train Loss: 362.2617, Validation Loss: 601.4968\n",
      "Epoch 6000, Train Loss: 264.5761, Validation Loss: 434.8171\n",
      "Epoch 7000, Train Loss: 183.7758, Validation Loss: 295.3921\n",
      "Epoch 8000, Train Loss: 119.7805, Validation Loss: 188.5149\n",
      "Epoch 9000, Train Loss: 71.8698, Validation Loss: 111.3291\n",
      "Epoch 10000, Train Loss: 38.5312, Validation Loss: 58.9270\n",
      "Epoch 11000, Train Loss: 17.7145, Validation Loss: 26.5086\n",
      "Epoch 12000, Train Loss: 6.7322, Validation Loss: 9.4376\n",
      "Epoch 13000, Train Loss: 2.3216, Validation Loss: 2.6531\n",
      "Epoch 14000, Train Loss: 1.0880, Validation Loss: 0.8913\n",
      "Epoch 15000, Train Loss: 0.7553, Validation Loss: 0.5607\n",
      "Epoch 16000, Train Loss: 0.6022, Validation Loss: 0.4884\n",
      "Epoch 17000, Train Loss: 0.5209, Validation Loss: 0.4709\n",
      "Epoch 18000, Train Loss: 0.4787, Validation Loss: 0.4606\n",
      "Epoch 19000, Train Loss: 0.4556, Validation Loss: 0.4521\n",
      "Epoch 20000, Train Loss: 0.4422, Validation Loss: 0.4484\n",
      "Epoch 21000, Train Loss: 0.4336, Validation Loss: 0.4460\n",
      "Epoch 22000, Train Loss: 0.4269, Validation Loss: 0.4410\n",
      "Epoch 23000, Train Loss: 0.4208, Validation Loss: 0.4344\n",
      "Epoch 24000, Train Loss: 0.4154, Validation Loss: 0.4283\n",
      "Epoch 25000, Train Loss: 0.4106, Validation Loss: 0.4228\n",
      "Epoch 26000, Train Loss: 0.4062, Validation Loss: 0.4183\n",
      "Epoch 27000, Train Loss: 0.4023, Validation Loss: 0.4148\n",
      "Epoch 28000, Train Loss: 0.3989, Validation Loss: 0.4121\n",
      "Epoch 29000, Train Loss: 0.3958, Validation Loss: 0.4103\n",
      "Epoch 30000, Train Loss: 0.3929, Validation Loss: 0.4076\n",
      "Epoch 31000, Train Loss: 0.3904, Validation Loss: 0.4084\n",
      "Epoch 32000, Train Loss: 0.3880, Validation Loss: 0.4080\n",
      "Epoch 33000, Train Loss: 0.3859, Validation Loss: 0.4078\n",
      "Epoch 34000, Train Loss: 0.3841, Validation Loss: 0.4077\n",
      "Epoch 35000, Train Loss: 0.3824, Validation Loss: 0.4080\n",
      "Epoch 36000, Train Loss: 0.3809, Validation Loss: 0.4082\n",
      "Epoch 37000, Train Loss: 0.3795, Validation Loss: 0.4089\n",
      "Epoch 38000, Train Loss: 0.3782, Validation Loss: 0.4089\n",
      "Validation loss has not improved for 5000 epochs. Stopping early.\n"
     ]
    }
   ],
   "source": [
    "for epoch in range(1000000):\n",
    "    # Randomly select a batch of {batch_size} samples from the training data\n",
    "    indices = random.sample(range(len(X_train_regression)), batch_size)\n",
    "    X_train_regression_batch = X_train_regression[indices]\n",
    "    y_train_batch = y_train[indices]\n",
    "\n",
    "    # Forward pass\n",
    "    y_pred_train = model.forward(X_train_regression_batch)\n",
    "    y_pred_val = model(X_val_regression)\n",
    "\n",
    "    # Compute loss\n",
    "    train_loss = loss_fn(y_pred_train, y_train_batch)\n",
    "    val_loss = loss_fn(y_pred_val, y_val)\n",
    "\n",
    "#     Calculate the regularization loss\n",
    "    regularization_loss = 0.0\n",
    "    for param in model.parameters():\n",
    "        regularization_loss += torch.sum(param**2) \n",
    "        \n",
    "    train_loss += regularization_loss * 0.001\n",
    "\n",
    "    # Zero gradients\n",
    "    optimizer.zero_grad()\n",
    "\n",
    "    # Backward pass\n",
    "    train_loss.backward()\n",
    "\n",
    "    # Update weights\n",
    "    optimizer.step()\n",
    "\n",
    "    append_counter += 1\n",
    "    if append_counter == 1000:\n",
    "        train_losses.append(train_loss.item())\n",
    "        val_losses.append(val_loss.item())\n",
    "        append_counter = 0\n",
    "        \n",
    "        print(f'Epoch {epoch+1}, Train Loss: {train_loss.item():.4f}, Validation Loss: {val_loss.item():.4f}')\n",
    "\n",
    "    \n",
    "\n",
    "    # Check if val loss has improved\n",
    "    if val_loss < best_val_loss:\n",
    "        best_val_loss = val_loss\n",
    "        counter = 0\n",
    "    else:\n",
    "        counter += 1\n",
    "\n",
    "    # Check if we have reached the patience limit\n",
    "    if counter >= patience:\n",
    "        print(f'Validation loss has not improved for {patience} epochs. Stopping early.')\n",
    "        break"
   ]
  },
  {
   "cell_type": "code",
   "execution_count": 16,
   "id": "700f98b7",
   "metadata": {},
   "outputs": [
    {
     "data": {
      "image/png": "[encoded data removed]",
      "text/plain": [
       "<Figure size 640x480 with 1 Axes>"
      ]
     },
     "metadata": {},
     "output_type": "display_data"
    }
   ],
   "source": [
    "# Plot the training and validation loss over each epoch\n",
    "plt.plot(torch.tensor(train_losses).log10(), label='Train Loss')\n",
    "plt.plot(torch.tensor(val_losses).log10(), label='Validation Loss')\n",
    "plt.xlabel('Epoch')\n",
    "plt.ylabel('Loss')\n",
    "plt.legend()\n",
    "plt.show()"
   ]
  },
  {
   "cell_type": "code",
   "execution_count": 17,
   "id": "8dcc24d9",
   "metadata": {},
   "outputs": [
    {
     "name": "stdout",
     "output_type": "stream",
     "text": [
      "Prediction:  torch.Size([31, 1])\n",
      "y_test:  torch.Size([31, 1])\n"
     ]
    },
    {
     "data": {
      "image/png": "[encoded data removed]",
      "text/plain": [
       "<Figure size 640x480 with 1 Axes>"
      ]
     },
     "metadata": {},
     "output_type": "display_data"
    }
   ],
   "source": [
    "# Forward pass on test data\n",
    "y_pred = model(X_test_regression)\n",
    "\n",
    "prediction = y_pred.tolist()\n",
    "\n",
    "print(\"Prediction: \", y_pred.size())\n",
    "print(\"y_test: \", y_test.size())\n",
    "\n",
    "\n",
    "plt.plot(prediction[0:20], 'o', label='Prediction')\n",
    "plt.plot(y_test[0:20].detach().numpy(), 'o', label='y_test')\n",
    "\n",
    "plt.legend()\n",
    "plt.show()"
   ]
  },
  {
   "cell_type": "code",
   "execution_count": 18,
   "id": "c1403212",
   "metadata": {},
   "outputs": [
    {
     "name": "stdout",
     "output_type": "stream",
     "text": [
      "Mean Absolute Error: 0.6158384161610757\n"
     ]
    }
   ],
   "source": [
    "# Convert tensors to numpy arrays\n",
    "prediction = np.array(prediction)\n",
    "y_test = y_test.numpy()\n",
    "\n",
    "# Calculate the absolute differences between predictions and true values\n",
    "abs_diff = np.abs(prediction - y_test)\n",
    "\n",
    "# Calculate the mean absolute error\n",
    "mae = np.mean(abs_diff)\n",
    "\n",
    "print(\"Mean Absolute Error:\", mae)\n"
   ]
  },
  {
   "cell_type": "code",
   "execution_count": null,
   "id": "9377dac3",
   "metadata": {},
   "outputs": [],
   "source": []
  },
  {
   "cell_type": "code",
   "execution_count": null,
   "id": "3a7c06a6",
   "metadata": {},
   "outputs": [],
   "source": []
  }
 ],
 "metadata": {
  "kernelspec": {
   "display_name": "Python 3 (ipykernel)",
   "language": "python",
   "name": "python3"
  },
  "language_info": {
   "codemirror_mode": {
    "name": "ipython",
    "version": 3
   },
   "file_extension": ".py",
   "mimetype": "text/x-python",
   "name": "python",
   "nbconvert_exporter": "python",
   "pygments_lexer": "ipython3",
   "version": "3.11.4"
  }
 },
 "nbformat": 4,
 "nbformat_minor": 5
}
