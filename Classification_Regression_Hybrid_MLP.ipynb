{
 "cells": [
  {
   "cell_type": "markdown",
   "metadata": {},
   "source": [
    "# Classification + Regression"
   ]
  },
  {
   "cell_type": "code",
   "execution_count": 1,
   "metadata": {},
   "outputs": [
    {
     "data": {
      "text/plain": [
       "(5209, 13)"
      ]
     },
     "execution_count": 1,
     "metadata": {},
     "output_type": "execute_result"
    }
   ],
   "source": [
    "import pandas as pd\n",
    "import torch\n",
    "import torch.nn as nn\n",
    "import torch.optim as optim\n",
    "import matplotlib.pyplot as plt\n",
    "import random\n",
    "from sklearn import model_selection\n",
    "import torch.nn.functional as F\n",
    "import numpy as np\n",
    "\n",
    "df = pd.read_csv('13-06-03.csv')\n",
    "df.shape"
   ]
  },
  {
   "cell_type": "code",
   "execution_count": 2,
   "metadata": {},
   "outputs": [
    {
     "data": {
      "text/plain": [
       "<torch._C.Generator at 0x1264d04d0>"
      ]
     },
     "execution_count": 2,
     "metadata": {},
     "output_type": "execute_result"
    }
   ],
   "source": [
    "# Set random seed for reproducibility\n",
    "random.seed(3160)\n",
    "torch.manual_seed(3160)"
   ]
  },
  {
   "cell_type": "code",
   "execution_count": 3,
   "metadata": {},
   "outputs": [],
   "source": [
    "# map the classification columns\n",
    "agzone_map = {\n",
    "    \"NSW VH3\": 0,\n",
    "    \"NSW H1\": 1,\n",
    "    \"NSW H2\": 2,\n",
    "    \"NSW H3\": 3,\n",
    "    \"VIC H1\": 4,\n",
    "    \"VIC H2\": 5,\n",
    "    \"WA H1\": 6,\n",
    "    \"WA H2\": 7,\n",
    "    \"WA H3\": 8,\n",
    "    \"WA H4\": 9,\n",
    "    \"WA H5\": 10,\n",
    "    \"WA H5W\": 11,\n",
    "    \"WA M1\": 12,\n",
    "    \"WA M2\": 13,\n",
    "    \"WA M3\": 14,\n",
    "    \"WA M4\": 15,\n",
    "    \"WA M5\": 16,\n",
    "    \"NSW M2\": 17,\n",
    "    \"NSW M3\": 18,\n",
    "    \"VIC M1\": 19,\n",
    "    \"VIC M2\": 20,\n",
    "    \"WA L1\": 21,\n",
    "    \"WA L2\": 22,\n",
    "    \"WA L3\": 23,\n",
    "    \"WA L4\": 24,\n",
    "    \"WA L5\": 25,\n",
    "    \"NSW L3\": 26,\n",
    "}\n",
    "name_map = {\n",
    "    \"ChickpeaKabul\": 0,\n",
    "    \"AdzukiBean\": 1,\n",
    "    \"Lupin\": 2,\n",
    "    \"Lucerne\": 3,\n",
    "    \"Silage\": 4,\n",
    "    \"FabaBean\": 5,\n",
    "    \"OtherHay\": 6,\n",
    "    \"Vetch\": 7,\n",
    "    \"OatenHay\": 8,\n",
    "    \"Triticale\": 9,\n",
    "    \"CerealRye\": 10,\n",
    "    \"FeedBarley\": 11,\n",
    "    \"Wheat\": 12,\n",
    "    \"OtherCrop\": 13,\n",
    "    \"Oat\": 14,\n",
    "    \"MaltBarley\": 15,\n",
    "    \"Lentil\": 16,\n",
    "    \"Canola\": 17,\n",
    "    \"AlbusLupin\": 18,\n",
    "    \"Sunflower\": 19,\n",
    "    \"CanolaGm\": 20,\n",
    "    \"Rice\": 21,\n",
    "    \"Sorghum\": 22,\n",
    "    \"MaizeOrCorn\": 23,\n",
    "    \"ChickpeaDesi\": 24,\n",
    "    \"FieldPea\": 25,\n",
    "    \"Cotton\": 26\n",
    "}\n",
    "\n",
    "df[\"Agzone\"] = df[\"Agzone\"].map(agzone_map).astype(int)\n",
    "df[\"Name\"] = df[\"Name\"].map(name_map).astype(int)"
   ]
  },
  {
   "cell_type": "code",
   "execution_count": 4,
   "metadata": {},
   "outputs": [
    {
     "name": "stdout",
     "output_type": "stream",
     "text": [
      "YieldTonnesPerHa             1.000000\n",
      "WUE_KgPerHa                  0.793568\n",
      "EffectiveSeasonRainfallMm    0.326311\n",
      "SeptCurrentYearMm            0.222838\n",
      "AprCurrentYearMm             0.203704\n",
      "OctCurrentYearMm             0.183742\n",
      "Id                           0.180412\n",
      "Year                         0.160713\n",
      "StartingSoilMoistureMm       0.085036\n",
      "ProfitSeriesBusinessId       0.043035\n",
      "AreaHa                      -0.034458\n",
      "Name                        -0.180133\n",
      "Agzone                      -0.273183\n"
     ]
    }
   ],
   "source": [
    "# Calculate the correlation coefficient between the \"yield per hectare\" variable and each of the other variables.\n",
    "correlation_coefficients = df.corr()['YieldTonnesPerHa']\n",
    "\n",
    "# Sort the variables by correlation coefficient in descending order.\n",
    "sorted_correlation_coefficients = correlation_coefficients.sort_values(ascending=False)\n",
    "\n",
    "# Select the top n variables with the highest correlation coefficients.\n",
    "top_n_variables = sorted_correlation_coefficients.head(1000)\n",
    "\n",
    "print(top_n_variables.to_string(max_rows=None))"
   ]
  },
  {
   "cell_type": "code",
   "execution_count": 5,
   "metadata": {},
   "outputs": [],
   "source": [
    "# group data\n",
    "number_of_years = 2\n",
    "grouped_df = df.groupby(['ProfitSeriesBusinessId', 'Name'])\n",
    "filtered_df = grouped_df.filter(lambda group_data: (~group_data['Year'].duplicated()).all() and len(group_data['Year']) >= number_of_years)\n",
    "\n",
    "sorted_df = filtered_df.groupby('ProfitSeriesBusinessId').apply(lambda x: x.sort_values('Year'))\n",
    "sorted_df = sorted_df.reset_index(drop=True)\n",
    "\n",
    "# Convert each group to a list of dictionaries\n",
    "grouped_list = [group.to_dict(orient='records') for _, group in sorted_df.groupby(['ProfitSeriesBusinessId','Name'])]\n",
    "\n",
    "# Group\n",
    "combinations = []\n",
    "for group in grouped_list:\n",
    "    [combinations.append(group[i:i+number_of_years]) for i in range(len(group)-(number_of_years-1))]"
   ]
  },
  {
   "cell_type": "code",
   "execution_count": 6,
   "metadata": {},
   "outputs": [],
   "source": [
    "# map each data vector\n",
    "excluded_keys = ['Name', 'ProfitSeriesBusinessId', 'Id', 'Agzone', 'Year']\n",
    "\n",
    "regression_data = []\n",
    "name_data = []\n",
    "agzone_data = []\n",
    "targets = []\n",
    "for combination in combinations:\n",
    "    combined_dict = {}\n",
    "    for row in combination:\n",
    "        filtered_row = {key: value for key, value in row.items() if key not in excluded_keys}\n",
    "        for key, value in filtered_row.items():\n",
    "            combined_key = key + str(row['Year'])\n",
    "            combined_dict[combined_key] = value\n",
    "\n",
    "    current_year = max(combination, key=lambda x: x['Year'])['Year']\n",
    "    \n",
    "    targets.append(combined_dict[f\"YieldTonnesPerHa{current_year}\"])\n",
    "    del combined_dict[f\"YieldTonnesPerHa{current_year}\"]\n",
    "    del combined_dict[f\"WUE_KgPerHa{current_year}\"]\n",
    "    \n",
    "    regression_data.append(combined_dict)\n",
    "    name_data.append(combination[0]['Name'])\n",
    "    agzone_data.append(combination[0]['Agzone'])"
   ]
  },
  {
   "cell_type": "code",
   "execution_count": 7,
   "metadata": {},
   "outputs": [],
   "source": [
    "def create_one_hot_layer(features, num_classes):\n",
    "    return F.one_hot(features, num_classes)\n",
    "\n",
    "one_hot_agzone = create_one_hot_layer(features=torch.tensor(agzone_data), num_classes=27)\n",
    "one_hot_name = create_one_hot_layer(features=torch.tensor(name_data), num_classes=27)\n",
    "\n",
    "X_classification = np.concatenate((one_hot_agzone, one_hot_name), axis=1)"
   ]
  },
  {
   "cell_type": "code",
   "execution_count": 8,
   "metadata": {},
   "outputs": [],
   "source": [
    "# convert data to lists\n",
    "X_regression = []\n",
    "\n",
    "for dictionary in regression_data:\n",
    "    values = list(dictionary.values())\n",
    "    X_regression.append(values)"
   ]
  },
  {
   "cell_type": "code",
   "execution_count": 9,
   "metadata": {},
   "outputs": [],
   "source": [
    "# Splitting regression features\n",
    "X_train_regression, X_test_regression, y_train, y_test = model_selection.train_test_split(\n",
    "    torch.tensor(X_regression, dtype=torch.float32), targets, test_size=0.2, random_state=42)\n",
    "\n",
    "X_val_regression, X_test_regression, y_val, y_test = model_selection.train_test_split(\n",
    "    X_test_regression, y_test, test_size=0.5, random_state=42)\n",
    "\n",
    "# Splitting classification features\n",
    "X_train_classification, X_test_classification = model_selection.train_test_split(\n",
    "    X_classification, test_size=0.2, random_state=42)\n",
    "\n",
    "X_val_classification, X_test_classification = model_selection.train_test_split(\n",
    "    X_test_classification, test_size=0.5, random_state=42)"
   ]
  },
  {
   "cell_type": "code",
   "execution_count": 10,
   "metadata": {},
   "outputs": [
    {
     "name": "stdout",
     "output_type": "stream",
     "text": [
      "[ 0.65166503  0.10002422  0.06937934  0.04902912  0.71484804  0.00467812\n",
      "  0.13670965 -0.00385507  0.17855967  0.22613279  0.12848222  0.13089046\n",
      "  0.28282284 -0.01178991]\n"
     ]
    }
   ],
   "source": [
    "# print correlation matrix\n",
    "features_np = X_train_regression.numpy()\n",
    "targets_np = y_train\n",
    "\n",
    "correlation_matrix = np.corrcoef(features_np.T, targets_np)\n",
    "feature_correlations = correlation_matrix[-1, :-1]\n",
    "print(feature_correlations)"
   ]
  },
  {
   "cell_type": "code",
   "execution_count": 11,
   "metadata": {},
   "outputs": [],
   "source": [
    "# convert data to tensors\n",
    "X_train_classification = torch.tensor(X_train_classification, dtype=torch.float32)\n",
    "X_test_classification = torch.tensor(X_test_classification, dtype=torch.float32)\n",
    "X_val_classification = torch.tensor(X_val_classification, dtype=torch.float32)\n",
    "\n",
    "y_train = torch.tensor(y_train, dtype=torch.float32)\n",
    "y_test = torch.tensor(y_test, dtype=torch.float32)\n",
    "y_val = torch.tensor(y_val, dtype=torch.float32)\n",
    "\n",
    "y_train = y_train.unsqueeze(1)\n",
    "y_test = y_test.unsqueeze(1)\n",
    "y_val = y_val.unsqueeze(1)"
   ]
  },
  {
   "cell_type": "code",
   "execution_count": 12,
   "metadata": {},
   "outputs": [
    {
     "name": "stdout",
     "output_type": "stream",
     "text": [
      "Train:\n",
      "torch.Size([1325, 14])\n",
      "torch.Size([1325, 54]) \n",
      "\n",
      "Val:\n",
      "torch.Size([166, 14])\n",
      "torch.Size([166, 54]) \n",
      "\n",
      "Test:\n",
      "torch.Size([166, 14])\n",
      "torch.Size([166, 54]) \n",
      "\n"
     ]
    }
   ],
   "source": [
    "print(\"Train:\")\n",
    "print(X_train_regression.shape)\n",
    "print(X_train_classification.shape , \"\\n\")\n",
    "\n",
    "print(\"Val:\")\n",
    "print(X_val_regression.shape)\n",
    "print(X_val_classification.shape , \"\\n\")\n",
    "\n",
    "print(\"Test:\")\n",
    "print(X_test_regression.shape)\n",
    "print(X_test_classification.shape , \"\\n\")\n",
    "\n",
    "regression_input_size = X_train_regression.size(1)\n",
    "classification_input_size = X_train_classification.size(1)"
   ]
  },
  {
   "cell_type": "code",
   "execution_count": 13,
   "metadata": {},
   "outputs": [],
   "source": [
    "class RegressionClassificationModel(nn.Module):\n",
    "    def __init__(self, regression_input_size, classification_input_size):\n",
    "        super(RegressionClassificationModel, self).__init__()\n",
    "\n",
    "        # Regression branch\n",
    "        self.regression_layers = nn.Sequential(\n",
    "            nn.Linear(regression_input_size, 64),\n",
    "            nn.LeakyReLU(),\n",
    "            nn.Linear(64, 128),\n",
    "            nn.LeakyReLU(),\n",
    "        )\n",
    "\n",
    "        # Classification branch\n",
    "        self.classification_layers = nn.Sequential(\n",
    "            nn.Linear(classification_input_size, 32),\n",
    "            nn.LeakyReLU(),\n",
    "            nn.Linear(32, 64),\n",
    "            nn.LeakyReLU(),\n",
    "        )\n",
    "\n",
    "        # Merge layers\n",
    "        self.merge_layers = nn.Sequential(\n",
    "            nn.Linear(128 + 64, 384),\n",
    "            nn.LeakyReLU(),\n",
    "            \n",
    "        )\n",
    "        \n",
    "        # Output layer\n",
    "        self.output_layer = nn.Linear(384, 1)\n",
    "\n",
    "    def forward(self, regression_inputs, classification_inputs):\n",
    "        regression_outputs = self.regression_layers(regression_inputs)\n",
    "        classification_outputs = self.classification_layers(classification_inputs)\n",
    "        merged = torch.cat((regression_outputs, classification_outputs), dim=1)\n",
    "        merged = self.merge_layers(merged)\n",
    "        output = self.output_layer(merged)\n",
    "        return output"
   ]
  },
  {
   "cell_type": "code",
   "execution_count": 14,
   "metadata": {},
   "outputs": [
    {
     "name": "stdout",
     "output_type": "stream",
     "text": [
      "RegressionClassificationModel(\n",
      "  (regression_layers): Sequential(\n",
      "    (0): Linear(in_features=14, out_features=64, bias=True)\n",
      "    (1): LeakyReLU(negative_slope=0.01)\n",
      "    (2): Linear(in_features=64, out_features=128, bias=True)\n",
      "    (3): LeakyReLU(negative_slope=0.01)\n",
      "  )\n",
      "  (classification_layers): Sequential(\n",
      "    (0): Linear(in_features=54, out_features=32, bias=True)\n",
      "    (1): LeakyReLU(negative_slope=0.01)\n",
      "    (2): Linear(in_features=32, out_features=64, bias=True)\n",
      "    (3): LeakyReLU(negative_slope=0.01)\n",
      "  )\n",
      "  (merge_layers): Sequential(\n",
      "    (0): Linear(in_features=192, out_features=384, bias=True)\n",
      "    (1): LeakyReLU(negative_slope=0.01)\n",
      "  )\n",
      "  (output_layer): Linear(in_features=384, out_features=1, bias=True)\n",
      ")\n"
     ]
    }
   ],
   "source": [
    "# Creating an instance of the model\n",
    "model = RegressionClassificationModel(regression_input_size, classification_input_size)\n",
    "\n",
    "# Printing the model architecture\n",
    "print(model)"
   ]
  },
  {
   "cell_type": "code",
   "execution_count": 15,
   "metadata": {},
   "outputs": [],
   "source": [
    "loss_fn = nn.MSELoss()\n",
    "optimizer = optim.Adam(model.parameters(), lr=0.000001)"
   ]
  },
  {
   "cell_type": "code",
   "execution_count": 16,
   "metadata": {},
   "outputs": [],
   "source": [
    "train_losses = []\n",
    "val_losses = []"
   ]
  },
  {
   "cell_type": "code",
   "execution_count": 17,
   "metadata": {},
   "outputs": [],
   "source": [
    "best_val_loss = float('inf')\n",
    "patience = 5000\n",
    "counter = 0\n",
    "append_counter = 0\n",
    "batch_size = 128"
   ]
  },
  {
   "cell_type": "code",
   "execution_count": 18,
   "metadata": {
    "scrolled": false
   },
   "outputs": [
    {
     "name": "stdout",
     "output_type": "stream",
     "text": [
      "Epoch 1000, Train Loss: 10.5220, Validation Loss: 6.5905\n",
      "Epoch 2000, Train Loss: 5.7299, Validation Loss: 4.1022\n",
      "Epoch 3000, Train Loss: 5.4127, Validation Loss: 3.3580\n",
      "Epoch 4000, Train Loss: 5.5127, Validation Loss: 2.9714\n",
      "Epoch 5000, Train Loss: 5.0995, Validation Loss: 2.7626\n",
      "Epoch 6000, Train Loss: 4.6125, Validation Loss: 2.6287\n",
      "Epoch 7000, Train Loss: 4.2311, Validation Loss: 2.5519\n",
      "Epoch 8000, Train Loss: 4.1600, Validation Loss: 2.4981\n",
      "Epoch 9000, Train Loss: 4.6321, Validation Loss: 2.4443\n",
      "Epoch 10000, Train Loss: 3.9333, Validation Loss: 2.3970\n",
      "Epoch 11000, Train Loss: 4.2054, Validation Loss: 2.3561\n",
      "Epoch 12000, Train Loss: 3.8040, Validation Loss: 2.3119\n",
      "Epoch 13000, Train Loss: 4.0918, Validation Loss: 2.2672\n",
      "Epoch 14000, Train Loss: 4.7367, Validation Loss: 2.2391\n",
      "Epoch 15000, Train Loss: 4.0883, Validation Loss: 2.2115\n",
      "Epoch 16000, Train Loss: 4.0258, Validation Loss: 2.1920\n",
      "Epoch 17000, Train Loss: 3.8257, Validation Loss: 2.1716\n",
      "Epoch 18000, Train Loss: 3.5995, Validation Loss: 2.1407\n",
      "Epoch 19000, Train Loss: 3.6515, Validation Loss: 2.1090\n",
      "Epoch 20000, Train Loss: 3.3145, Validation Loss: 2.0840\n",
      "Epoch 21000, Train Loss: 3.4724, Validation Loss: 2.0669\n",
      "Epoch 22000, Train Loss: 3.8213, Validation Loss: 2.0350\n",
      "Epoch 23000, Train Loss: 3.1552, Validation Loss: 2.0192\n",
      "Epoch 24000, Train Loss: 3.2744, Validation Loss: 1.9865\n",
      "Epoch 25000, Train Loss: 2.8551, Validation Loss: 1.9597\n",
      "Epoch 26000, Train Loss: 3.7579, Validation Loss: 1.9352\n",
      "Epoch 27000, Train Loss: 2.8343, Validation Loss: 1.9171\n",
      "Epoch 28000, Train Loss: 2.8157, Validation Loss: 1.8767\n",
      "Epoch 29000, Train Loss: 2.7095, Validation Loss: 1.8638\n",
      "Epoch 30000, Train Loss: 3.1425, Validation Loss: 1.8380\n",
      "Epoch 31000, Train Loss: 3.2156, Validation Loss: 1.8106\n",
      "Epoch 32000, Train Loss: 3.0266, Validation Loss: 1.7980\n",
      "Epoch 33000, Train Loss: 3.1669, Validation Loss: 1.7723\n",
      "Epoch 34000, Train Loss: 3.1836, Validation Loss: 1.7489\n",
      "Epoch 35000, Train Loss: 2.7989, Validation Loss: 1.7165\n",
      "Epoch 36000, Train Loss: 3.1896, Validation Loss: 1.7098\n",
      "Epoch 37000, Train Loss: 2.8776, Validation Loss: 1.6800\n",
      "Epoch 38000, Train Loss: 2.5213, Validation Loss: 1.6510\n",
      "Epoch 39000, Train Loss: 2.5126, Validation Loss: 1.6387\n",
      "Epoch 40000, Train Loss: 2.6517, Validation Loss: 1.6087\n",
      "Epoch 41000, Train Loss: 2.7434, Validation Loss: 1.5920\n",
      "Epoch 42000, Train Loss: 2.4610, Validation Loss: 1.5693\n",
      "Epoch 43000, Train Loss: 2.5892, Validation Loss: 1.5535\n",
      "Epoch 44000, Train Loss: 2.2625, Validation Loss: 1.5365\n",
      "Epoch 45000, Train Loss: 2.6543, Validation Loss: 1.5117\n",
      "Epoch 46000, Train Loss: 2.4611, Validation Loss: 1.4795\n",
      "Epoch 47000, Train Loss: 2.4799, Validation Loss: 1.4559\n",
      "Epoch 48000, Train Loss: 2.5050, Validation Loss: 1.4445\n",
      "Epoch 49000, Train Loss: 2.2493, Validation Loss: 1.4165\n",
      "Epoch 50000, Train Loss: 2.5122, Validation Loss: 1.3931\n",
      "Epoch 51000, Train Loss: 2.7857, Validation Loss: 1.3832\n",
      "Epoch 52000, Train Loss: 2.6751, Validation Loss: 1.3608\n",
      "Epoch 53000, Train Loss: 2.1490, Validation Loss: 1.3443\n",
      "Epoch 54000, Train Loss: 2.0641, Validation Loss: 1.3145\n",
      "Epoch 55000, Train Loss: 2.4455, Validation Loss: 1.3051\n",
      "Epoch 56000, Train Loss: 2.3211, Validation Loss: 1.2940\n",
      "Epoch 57000, Train Loss: 2.5767, Validation Loss: 1.2585\n",
      "Epoch 58000, Train Loss: 2.1885, Validation Loss: 1.2386\n",
      "Epoch 59000, Train Loss: 2.2484, Validation Loss: 1.2283\n",
      "Epoch 60000, Train Loss: 2.1341, Validation Loss: 1.2178\n",
      "Epoch 61000, Train Loss: 2.3300, Validation Loss: 1.1961\n",
      "Epoch 62000, Train Loss: 2.0999, Validation Loss: 1.1812\n",
      "Epoch 63000, Train Loss: 2.0707, Validation Loss: 1.1720\n",
      "Epoch 64000, Train Loss: 1.9638, Validation Loss: 1.1522\n",
      "Epoch 65000, Train Loss: 2.0343, Validation Loss: 1.1418\n",
      "Epoch 66000, Train Loss: 2.1513, Validation Loss: 1.1451\n",
      "Epoch 67000, Train Loss: 2.0680, Validation Loss: 1.1209\n",
      "Epoch 68000, Train Loss: 2.2159, Validation Loss: 1.1026\n",
      "Epoch 69000, Train Loss: 1.9256, Validation Loss: 1.0984\n",
      "Epoch 70000, Train Loss: 2.0481, Validation Loss: 1.0910\n",
      "Epoch 71000, Train Loss: 1.9623, Validation Loss: 1.0756\n",
      "Epoch 72000, Train Loss: 1.9774, Validation Loss: 1.0673\n",
      "Epoch 73000, Train Loss: 1.8595, Validation Loss: 1.0560\n",
      "Epoch 74000, Train Loss: 1.8588, Validation Loss: 1.0499\n",
      "Epoch 75000, Train Loss: 2.0900, Validation Loss: 1.0502\n",
      "Epoch 76000, Train Loss: 1.9198, Validation Loss: 1.0323\n",
      "Epoch 77000, Train Loss: 2.0293, Validation Loss: 1.0247\n",
      "Epoch 78000, Train Loss: 1.7468, Validation Loss: 1.0229\n",
      "Epoch 79000, Train Loss: 1.8802, Validation Loss: 1.0120\n",
      "Epoch 80000, Train Loss: 1.9489, Validation Loss: 1.0060\n",
      "Epoch 81000, Train Loss: 1.7975, Validation Loss: 1.0154\n",
      "Epoch 82000, Train Loss: 1.9865, Validation Loss: 1.0054\n",
      "Epoch 83000, Train Loss: 1.8733, Validation Loss: 1.0007\n",
      "Epoch 84000, Train Loss: 1.8298, Validation Loss: 0.9873\n",
      "Epoch 85000, Train Loss: 1.9443, Validation Loss: 0.9939\n",
      "Epoch 86000, Train Loss: 1.8907, Validation Loss: 0.9822\n",
      "Epoch 87000, Train Loss: 1.8990, Validation Loss: 0.9815\n",
      "Epoch 88000, Train Loss: 1.7925, Validation Loss: 0.9763\n",
      "Epoch 89000, Train Loss: 1.6831, Validation Loss: 0.9694\n",
      "Epoch 90000, Train Loss: 1.6840, Validation Loss: 0.9748\n",
      "Epoch 91000, Train Loss: 1.6769, Validation Loss: 0.9676\n",
      "Epoch 92000, Train Loss: 1.6991, Validation Loss: 0.9559\n",
      "Epoch 93000, Train Loss: 1.7490, Validation Loss: 0.9672\n",
      "Epoch 94000, Train Loss: 1.7040, Validation Loss: 0.9542\n",
      "Epoch 95000, Train Loss: 1.7971, Validation Loss: 0.9570\n",
      "Epoch 96000, Train Loss: 1.7417, Validation Loss: 0.9544\n",
      "Epoch 97000, Train Loss: 1.5949, Validation Loss: 0.9462\n",
      "Epoch 98000, Train Loss: 1.7364, Validation Loss: 0.9541\n",
      "Epoch 99000, Train Loss: 1.6671, Validation Loss: 0.9529\n",
      "Epoch 100000, Train Loss: 1.7649, Validation Loss: 0.9682\n"
     ]
    }
   ],
   "source": [
    "for epoch in range(100000):\n",
    "    # Randomly select a batch of {batch_size} samples from the training data\n",
    "    indices = random.sample(range(len(X_train_regression)), batch_size)\n",
    "    X_train_regression_batch = X_train_regression[indices]\n",
    "    X_train_classification_batch = X_train_classification[indices]\n",
    "    y_train_batch = y_train[indices]\n",
    "\n",
    "    # Forward pass\n",
    "    y_pred_train = model.forward(X_train_regression_batch, X_train_classification_batch)\n",
    "    y_pred_val = model(X_val_regression, X_val_classification)\n",
    "\n",
    "    # Compute loss\n",
    "    train_loss = loss_fn(y_pred_train, y_train_batch)\n",
    "    val_loss = loss_fn(y_pred_val, y_val)\n",
    "\n",
    "    # Calculate the regularization loss\n",
    "    regularization_loss = 0.0\n",
    "    for param in model.parameters():\n",
    "        regularization_loss += torch.sum(param**2) \n",
    "        \n",
    "    train_loss += regularization_loss * 0.01\n",
    "\n",
    "    # Zero gradients\n",
    "    optimizer.zero_grad()\n",
    "\n",
    "    # Backward pass\n",
    "    train_loss.backward()\n",
    "\n",
    "    # Update weights\n",
    "    optimizer.step()\n",
    "\n",
    "    append_counter += 1\n",
    "    if append_counter == 1000:\n",
    "        train_losses.append(train_loss.item())\n",
    "        val_losses.append(val_loss.item())\n",
    "        append_counter = 0\n",
    "        \n",
    "        print(f'Epoch {epoch+1}, Train Loss: {train_loss.item():.4f}, Validation Loss: {val_loss.item():.4f}')\n",
    "\n",
    "    \n",
    "\n",
    "    # Check if val loss has improved\n",
    "    if val_loss < best_val_loss:\n",
    "        best_val_loss = val_loss\n",
    "        counter = 0\n",
    "    else:\n",
    "        counter += 1\n",
    "\n",
    "    # Check if we have reached the patience limit\n",
    "    if counter >= patience:\n",
    "        print(f'Validation loss has not improved for {patience} epochs. Stopping early.')\n",
    "        break"
   ]
  },
  {
   "cell_type": "code",
   "execution_count": 19,
   "metadata": {},
   "outputs": [
    {
     "data": {
      "image/png": "[encoded data removed]",
      "text/plain": [
       "<Figure size 640x480 with 1 Axes>"
      ]
     },
     "metadata": {},
     "output_type": "display_data"
    }
   ],
   "source": [
    "# Plot the training and validation loss over each epoch\n",
    "plt.plot(torch.tensor(train_losses).log10(), label='Train Loss')\n",
    "plt.plot(torch.tensor(val_losses).log10(), label='Validation Loss')\n",
    "plt.xlabel('Epoch')\n",
    "plt.ylabel('Loss')\n",
    "plt.legend()\n",
    "plt.show()"
   ]
  },
  {
   "cell_type": "code",
   "execution_count": 20,
   "metadata": {},
   "outputs": [
    {
     "name": "stdout",
     "output_type": "stream",
     "text": [
      "Prediction:  torch.Size([166, 1])\n",
      "y_test:  torch.Size([166, 1])\n"
     ]
    },
    {
     "data": {
      "image/png": "[encoded data removed]",
      "text/plain": [
       "<Figure size 640x480 with 1 Axes>"
      ]
     },
     "metadata": {},
     "output_type": "display_data"
    }
   ],
   "source": [
    "# Forward pass on test data\n",
    "y_pred = model(X_test_regression, X_test_classification)\n",
    "\n",
    "prediction = y_pred.tolist()\n",
    "\n",
    "print(\"Prediction: \", y_pred.size())\n",
    "print(\"y_test: \", y_test.size())\n",
    "\n",
    "\n",
    "plt.plot(prediction[0:20], 'o', label='Prediction')\n",
    "plt.plot(y_test[0:20].detach().numpy(), 'o', label='y_test')\n",
    "\n",
    "plt.legend()\n",
    "plt.show()"
   ]
  },
  {
   "cell_type": "code",
   "execution_count": 21,
   "metadata": {},
   "outputs": [
    {
     "name": "stdout",
     "output_type": "stream",
     "text": [
      "Mean Absolute Error: 0.779050898165947\n"
     ]
    }
   ],
   "source": [
    "# Convert tensors to numpy arrays\n",
    "prediction = np.array(prediction)\n",
    "y_test = y_test.numpy()\n",
    "\n",
    "# Calculate the absolute differences between predictions and true values\n",
    "abs_diff = np.abs(prediction - y_test)\n",
    "\n",
    "# Calculate the mean absolute error\n",
    "mae = np.mean(abs_diff)\n",
    "\n",
    "print(\"Mean Absolute Error:\", mae)\n"
   ]
  },
  {
   "cell_type": "code",
   "execution_count": null,
   "metadata": {},
   "outputs": [],
   "source": []
  },
  {
   "cell_type": "code",
   "execution_count": null,
   "metadata": {},
   "outputs": [],
   "source": []
  }
 ],
 "metadata": {
  "kernelspec": {
   "display_name": "Python 3 (ipykernel)",
   "language": "python",
   "name": "python3"
  },
  "language_info": {
   "codemirror_mode": {
    "name": "ipython",
    "version": 3
   },
   "file_extension": ".py",
   "mimetype": "text/x-python",
   "name": "python",
   "nbconvert_exporter": "python",
   "pygments_lexer": "ipython3",
   "version": "3.11.4"
  }
 },
 "nbformat": 4,
 "nbformat_minor": 4
}
