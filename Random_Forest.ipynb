{
 "cells": [
  {
   "cell_type": "markdown",
   "id": "06a96259",
   "metadata": {},
   "source": [
    "# Random Forest"
   ]
  },
  {
   "cell_type": "code",
   "execution_count": 1,
   "id": "c69f3368",
   "metadata": {},
   "outputs": [
    {
     "data": {
      "text/plain": [
       "(5565, 12)"
      ]
     },
     "execution_count": 1,
     "metadata": {},
     "output_type": "execute_result"
    }
   ],
   "source": [
    "# Importing necessary libraries\n",
    "import numpy as np\n",
    "import pandas as pd\n",
    "from sklearn.ensemble import RandomForestRegressor\n",
    "from sklearn.metrics import accuracy_score\n",
    "import torch\n",
    "import matplotlib.pyplot as plt\n",
    "import random\n",
    "from sklearn import model_selection\n",
    "import torch.nn.functional as F\n",
    "\n",
    "# Load the dataset\n",
    "df = pd.read_csv('28-06-removed-data-cleaning.csv')  # Replace \"your_dataset.csv\" with the actual path to your dataset\n",
    "df.shape"
   ]
  },
  {
   "cell_type": "code",
   "execution_count": 2,
   "id": "bdb4c804",
   "metadata": {},
   "outputs": [
    {
     "data": {
      "text/plain": [
       "(5565, 12)"
      ]
     },
     "execution_count": 2,
     "metadata": {},
     "output_type": "execute_result"
    }
   ],
   "source": [
    "agzone_map = {\n",
    "    \"NSW VH3\": 0,\n",
    "    \"NSW H1\": 1,\n",
    "    \"NSW H2\": 2,\n",
    "    \"NSW H3\": 3,\n",
    "    \"VIC H1\": 4,\n",
    "    \"VIC H2\": 5,\n",
    "    \"WA H1\": 6,\n",
    "    \"WA H2\": 7,\n",
    "    \"WA H3\": 8,\n",
    "    \"WA H4\": 9,\n",
    "    \"WA H5\": 10,\n",
    "    \"WA H5W\": 11,\n",
    "    \"WA M1\": 12,\n",
    "    \"WA M2\": 13,\n",
    "    \"WA M3\": 14,\n",
    "    \"WA M4\": 15,\n",
    "    \"WA M5\": 16,\n",
    "    \"NSW M2\": 17,\n",
    "    \"NSW M3\": 18,\n",
    "    \"VIC M1\": 19,\n",
    "    \"VIC M2\": 20,\n",
    "    \"WA L1\": 21,\n",
    "    \"WA L2\": 22,\n",
    "    \"WA L3\": 23,\n",
    "    \"WA L4\": 24,\n",
    "    \"WA L5\": 25,\n",
    "    \"NSW L3\": 26,\n",
    "}\n",
    "\n",
    "name_map = {\n",
    "    \"ChickpeaKabul\": 0,\n",
    "    \"AdzukiBean\": 1,\n",
    "    \"Lupin\": 2,\n",
    "    \"Lucerne\": 3,\n",
    "    \"Silage\": 4,\n",
    "    \"FabaBean\": 5,\n",
    "    \"OtherHay\": 6,\n",
    "    \"Vetch\": 7,\n",
    "    \"OatenHay\": 8,\n",
    "    \"Triticale\": 9,\n",
    "    \"CerealRye\": 10,\n",
    "    \"FeedBarley\": 11,\n",
    "    \"Wheat\": 12,\n",
    "    \"OtherCrop\": 13,\n",
    "    \"Oat\": 14,\n",
    "    \"MaltBarley\": 15,\n",
    "    \"Lentil\": 16,\n",
    "    \"Canola\": 17,\n",
    "    \"AlbusLupin\": 18,\n",
    "    \"Sunflower\": 19,\n",
    "    \"CanolaGm\": 20,\n",
    "    \"Rice\": 21,\n",
    "    \"Sorghum\": 22,\n",
    "    \"MaizeOrCorn\": 23,\n",
    "    \"ChickpeaDesi\": 24,\n",
    "    \"FieldPea\": 25,\n",
    "    \"Cotton\": 26\n",
    "}\n",
    "\n",
    "df[\"Agzone\"] = df[\"Agzone\"].map(agzone_map).astype(int)\n",
    "df[\"Name\"] = df[\"Name\"].map(name_map).astype(int)\n",
    "\n",
    "df.shape"
   ]
  },
  {
   "cell_type": "code",
   "execution_count": 23,
   "id": "d777c9dc",
   "metadata": {},
   "outputs": [],
   "source": [
    "# group data\n",
    "number_of_years = 4\n",
    "grouped_df = df.groupby(['ProfitSeriesBusinessId', 'Name'])\n",
    "filtered_df = grouped_df.filter(lambda group_data: (~group_data['Year'].duplicated()).all() and len(group_data['Year']) >= number_of_years)\n",
    "\n",
    "sorted_df = filtered_df.groupby('ProfitSeriesBusinessId').apply(lambda x: x.sort_values('Year'))\n",
    "sorted_df = sorted_df.reset_index(drop=True)\n",
    "\n",
    "# Convert each group to a list of dictionaries\n",
    "grouped_list = [group.to_dict(orient='records') for _, group in sorted_df.groupby(['ProfitSeriesBusinessId','Name'])]\n",
    "\n",
    "# Group\n",
    "combinations = []\n",
    "for group in grouped_list:\n",
    "    [combinations.append(group[i:i+number_of_years]) for i in range(len(group)-(number_of_years-1))]"
   ]
  },
  {
   "cell_type": "code",
   "execution_count": 4,
   "id": "67a5600d",
   "metadata": {},
   "outputs": [],
   "source": [
    "# map each data vector\n",
    "\n",
    "excluded_keys = ['Name', 'ProfitSeriesBusinessId', 'Id', 'Agzone', 'Year']\n",
    "\n",
    "regression_data = []\n",
    "name_data = []\n",
    "agzone_data = []\n",
    "targets = []\n",
    "for combination in combinations:\n",
    "    combined_dict = {}\n",
    "    for row in combination:\n",
    "        filtered_row = {key: value for key, value in row.items() if key not in excluded_keys}\n",
    "        for key, value in filtered_row.items():\n",
    "            combined_key = key + str(row['Year'])\n",
    "            combined_dict[combined_key] = value\n",
    "\n",
    "    current_year = max(combination, key=lambda x: x['Year'])['Year']\n",
    "    \n",
    "    targets.append(combined_dict[f\"YieldTonnesPerHa{current_year}\"])\n",
    "    del combined_dict[f\"YieldTonnesPerHa{current_year}\"]\n",
    "    del combined_dict[f\"WUE_KgPerHa{current_year}\"]\n",
    "    \n",
    "    regression_data.append(combined_dict)\n",
    "    name_data.append(combination[0]['Name'])\n",
    "    agzone_data.append(combination[0]['Agzone'])\n",
    "    "
   ]
  },
  {
   "cell_type": "code",
   "execution_count": 5,
   "id": "1b206b31",
   "metadata": {},
   "outputs": [],
   "source": [
    "# convert data to lists\n",
    "X_regression = []\n",
    "\n",
    "for dictionary in regression_data:\n",
    "    values = list(dictionary.values())\n",
    "    X_regression.append(values)"
   ]
  },
  {
   "cell_type": "code",
   "execution_count": 6,
   "id": "b75bbb01",
   "metadata": {},
   "outputs": [],
   "source": [
    "def create_one_hot_layer(features, num_classes):\n",
    "    return F.one_hot(features, num_classes)\n",
    "\n",
    "one_hot_agzone = create_one_hot_layer(features=torch.tensor(agzone_data), num_classes=27)\n",
    "one_hot_name = create_one_hot_layer(features=torch.tensor(name_data), num_classes=27)\n",
    "\n",
    "X_regression = np.concatenate((X_regression, one_hot_agzone, one_hot_name), axis=1)"
   ]
  },
  {
   "cell_type": "code",
   "execution_count": 7,
   "id": "8afecaf4",
   "metadata": {},
   "outputs": [],
   "source": [
    "# Splitting regression features\n",
    "X_train_regression, X_test_regression, y_train, y_test = model_selection.train_test_split(\n",
    "    X_regression, targets, test_size=0.2, random_state=42)"
   ]
  },
  {
   "cell_type": "code",
   "execution_count": 8,
   "id": "2ecd324b",
   "metadata": {
    "scrolled": true
   },
   "outputs": [
    {
     "name": "stdout",
     "output_type": "stream",
     "text": [
      "Train set:  284\n",
      "Test set:  72\n"
     ]
    }
   ],
   "source": [
    "print(\"Train set: \", len(X_train_regression))\n",
    "\n",
    "print(\"Test set: \", len(X_test_regression))\n"
   ]
  },
  {
   "cell_type": "code",
   "execution_count": 9,
   "id": "116ab71d",
   "metadata": {},
   "outputs": [],
   "source": [
    "def mean_absolute_error(y_test, y_pred, n_estimators, max_depth):\n",
    "    # Convert tensors to numpy arrays\n",
    "    prediction = np.array(y_pred)\n",
    "    y_test = np.array(y_test)\n",
    "\n",
    "    # Calculate the absolute differences between predictions and true values\n",
    "    abs_diff = np.abs(prediction - y_test)\n",
    "\n",
    "    # Calculate the mean absolute error\n",
    "    mae = np.mean(abs_diff)\n",
    "\n",
    "    print(\"MAE for n_estimators={}, max_depth={}: {}\".format(n_estimators, max_depth, mae))\n",
    "    return mae\n"
   ]
  },
  {
   "cell_type": "code",
   "execution_count": 10,
   "id": "4e30dbdd",
   "metadata": {},
   "outputs": [],
   "source": [
    "def mean_squared_error(y_test, y_pred, n_estimators, max_depth):\n",
    "    # Convert tensors to numpy arrays\n",
    "    prediction = np.array(y_pred)\n",
    "    y_test = np.array(y_test)\n",
    "\n",
    "    # Calculate the squared differences between predictions and true values\n",
    "    squared_diff = np.square(prediction - y_test)\n",
    "\n",
    "    # Calculate the mean squared error\n",
    "    mse = np.mean(squared_diff)\n",
    "\n",
    "    print(\"MSE for n_estimators={}, max_depth={}: {}\".format(n_estimators, max_depth, mse))\n",
    "    return mse"
   ]
  },
  {
   "cell_type": "code",
   "execution_count": 16,
   "id": "e267eb39",
   "metadata": {
    "scrolled": false
   },
   "outputs": [
    {
     "name": "stdout",
     "output_type": "stream",
     "text": [
      "MAE for n_estimators=80, max_depth=9: 0.4587045977336744\n",
      "MSE for n_estimators=80, max_depth=9: 0.4263820208957831\n"
     ]
    }
   ],
   "source": [
    "# Define the hyperparameter ranges\n",
    "# n_estimators_range = [80, 90, 100, 110, 120, 1950, 2000, 2050, 2500]\n",
    "# n_estimators_range = [75, 80, 85, 90]\n",
    "n_estimators_range = [80]\n",
    "# max_depth_range = [5, 10, 20, 30, 40, 80, 120, 160]\n",
    "# max_depth_range = [8, 9, 10, 11, 12]\n",
    "max_depth_range = [9]\n",
    "\n",
    "# Iterate over hyperparameter combinations\n",
    "for n_estimators in n_estimators_range:\n",
    "    for max_depth in max_depth_range:\n",
    "        # Create a Random Forest regressor\n",
    "        rf_regressor = RandomForestRegressor(n_estimators=n_estimators, max_depth=max_depth, min_samples_split=2, random_state=42)\n",
    "        \n",
    "        # Train the regressor\n",
    "        rf_regressor.fit(X_train_regression, y_train)\n",
    "        \n",
    "        # Make predictions on the test set\n",
    "        y_pred = rf_regressor.predict(X_test_regression)\n",
    "        \n",
    "        # Evaluate the model\n",
    "        mae = mean_absolute_error(y_test, y_pred, n_estimators, max_depth)\n",
    "        mse = mean_squared_error(y_test, y_pred, n_estimators, max_depth)"
   ]
  },
  {
   "cell_type": "code",
   "execution_count": 26,
   "id": "bee9a666",
   "metadata": {
    "scrolled": false
   },
   "outputs": [
    {
     "data": {
      "image/png": "[encoded data removed]",
      "text/plain": [
       "<Figure size 640x480 with 1 Axes>"
      ]
     },
     "metadata": {},
     "output_type": "display_data"
    }
   ],
   "source": [
    "# Forward pass on test data\n",
    "prediction = y_pred.tolist()\n",
    "\n",
    "\n",
    "plt.plot(prediction, 'o', label='Prediction')\n",
    "plt.plot(y_test, 'o', label='y_test')\n",
    "\n",
    "plt.legend()\n",
    "plt.show()"
   ]
  },
  {
   "cell_type": "code",
   "execution_count": 21,
   "id": "6dccd7be",
   "metadata": {
    "scrolled": true
   },
   "outputs": [
    {
     "name": "stdout",
     "output_type": "stream",
     "text": [
      "Prediction:  2.790504092573463\n",
      "Target:  2.311472\n"
     ]
    }
   ],
   "source": [
    "user_input = random.randint(0,len(X_test_regression))\n",
    "\n",
    "# Make predictions on the test set\n",
    "prediction_of_user_data = rf_regressor.predict([X_test_regression[user_input]])\n",
    "print('Prediction: ', prediction_of_user_data[0])\n",
    "print('Target: ',y_test[user_input])"
   ]
  },
  {
   "cell_type": "code",
   "execution_count": 22,
   "id": "0eee48ed",
   "metadata": {
    "scrolled": true
   },
   "outputs": [
    {
     "data": {
      "image/png": "[encoded data removed]",
      "text/plain": [
       "<Figure size 600x20 with 1 Axes>"
      ]
     },
     "metadata": {},
     "output_type": "display_data"
    }
   ],
   "source": [
    "# Assuming you have the predicted value and range\n",
    "predicted_value = prediction_of_user_data[0]\n",
    "range_value = mae\n",
    "\n",
    "# Set the figure size\n",
    "fig, ax = plt.subplots(figsize=(6, 0.2))\n",
    "\n",
    "# Create the horizontal bar chart\n",
    "ax.barh(0, range_value, left=predicted_value - range_value/2, height=0.60, align='center', color='blue', alpha=0.5)\n",
    "\n",
    "# Set the plot limits and labels\n",
    "ax.set_xlim(0, 10)\n",
    "ax.set_ylim(-0.5, 0.5)\n",
    "ax.set_xlabel('Yield Per Hectare')\n",
    "ax.set_title('Expected Range')\n",
    "\n",
    "# Remove y-axis\n",
    "ax.set_yticks([])\n",
    "\n",
    "# Display the plot\n",
    "plt.show()"
   ]
  },
  {
   "cell_type": "code",
   "execution_count": null,
   "id": "7e426222",
   "metadata": {},
   "outputs": [],
   "source": []
  }
 ],
 "metadata": {
  "kernelspec": {
   "display_name": "Python 3 (ipykernel)",
   "language": "python",
   "name": "python3"
  },
  "language_info": {
   "codemirror_mode": {
    "name": "ipython",
    "version": 3
   },
   "file_extension": ".py",
   "mimetype": "text/x-python",
   "name": "python",
   "nbconvert_exporter": "python",
   "pygments_lexer": "ipython3",
   "version": "3.11.4"
  }
 },
 "nbformat": 4,
 "nbformat_minor": 5
}
